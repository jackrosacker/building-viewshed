{
 "cells": [
  {
   "cell_type": "code",
   "execution_count": null,
   "metadata": {},
   "outputs": [],
   "source": [
    "# imports\n",
    "from pathlib import Path\n",
    "import geopandas as gpd\n",
    "import rasterio\n",
    "import rasterio.plot\n",
    "import matplotlib.pyplot as plt\n",
    "import rioxarray as rxr\n",
    "import seaborn as sns"
   ]
  },
  {
   "cell_type": "code",
   "execution_count": null,
   "metadata": {},
   "outputs": [],
   "source": [
    "data_path = Path(\"data\")\n",
    "\n",
    "reference_raster = rasterio.open(data_path / \"landcover_2010_nyc_3ft_mn.tif\")"
   ]
  },
  {
   "cell_type": "code",
   "execution_count": null,
   "metadata": {},
   "outputs": [],
   "source": [
    "# read geoparquet into a gdf\n",
    "out_data_name = \"buildings\"\n",
    "file_ext = \"parquet\"\n",
    "bldg_gdf = gpd.read_parquet(data_path / f\"{out_data_name}.{file_ext}\")\n",
    "\n",
    "# fill null values in either elevation col with 0s\n",
    "bldg_gdf.fillna({'groundelev':0,'heightroof':0},inplace=True)\n",
    "\n",
    "print(f\"num of rows in bldg dataset: {len(bldg_gdf)}\")"
   ]
  },
  {
   "cell_type": "code",
   "execution_count": null,
   "metadata": {},
   "outputs": [],
   "source": [
    "# calculate integer roof height relative to sealevel, not grade\n",
    "bldg_gdf[\"roof_hgt_from_sealvl\"] = (bldg_gdf.heightroof + bldg_gdf.groundelev).astype(\n",
    "    int\n",
    ")"
   ]
  },
  {
   "cell_type": "code",
   "execution_count": null,
   "metadata": {},
   "outputs": [],
   "source": [
    "bldg_gdf.info()"
   ]
  },
  {
   "cell_type": "code",
   "execution_count": null,
   "metadata": {},
   "outputs": [],
   "source": [
    "# subset geoparquet to only include MN for testing\n",
    "mn_bldg_gdf = bldg_gdf.query(\"base_bbl.str.startswith('1')\")\n",
    "\n",
    "print(f\"num of rows in mn bldg dataset: {len(mn_bldg_gdf)}\")"
   ]
  },
  {
   "cell_type": "code",
   "execution_count": null,
   "metadata": {},
   "outputs": [],
   "source": [
    "count = mn_bldg_gdf.groupby(by=['roof_hgt_from_sealvl']).size()\n",
    "display(count)"
   ]
  },
  {
   "cell_type": "code",
   "execution_count": null,
   "metadata": {},
   "outputs": [],
   "source": [
    "count.plot()"
   ]
  },
  {
   "cell_type": "code",
   "execution_count": null,
   "metadata": {},
   "outputs": [],
   "source": [
    "## rasterize bldg footprints\n",
    "\n",
    "geom = [shapes for shapes in mn_bldg_gdf.geometry]\n",
    "\n",
    "# generate tuples of geometry, value pairs, where value is the attribute value you want to burn\n",
    "geom_value = (\n",
    "    (geom, value)\n",
    "    for geom, value in zip(mn_bldg_gdf.geometry, mn_bldg_gdf[\"roof_hgt_from_sealvl\"])\n",
    ")\n",
    "\n",
    "# Rasterize vector using the shape and transform of the raster\n",
    "rasterized = rasterio.features.rasterize(\n",
    "    shapes=geom_value,\n",
    "    out_shape=reference_raster.shape,\n",
    "    transform=reference_raster.transform,\n",
    "    all_touched=True,\n",
    "    fill=0,  # background value\n",
    "    merge_alg=rasterio.enums.MergeAlg.replace,\n",
    "    # dtype=np.int16,\n",
    ")"
   ]
  },
  {
   "cell_type": "code",
   "execution_count": null,
   "metadata": {},
   "outputs": [],
   "source": [
    "out_raster = \"mn_bldg_raster.tif\"\n",
    "\n",
    "with rasterio.open(\n",
    "    fp=data_path / f\"{out_raster}\",\n",
    "    mode=\"w\",\n",
    "    driver=\"GTiff\",\n",
    "    width=reference_raster.width,   # width in rows\n",
    "    height=reference_raster.height, # height in rows\n",
    "    count=1,                        # number of bands\n",
    "    crs=reference_raster.crs,\n",
    "    transform=reference_raster.transform,\n",
    "    dtype=rasterio.float32,           # dtype must be float, else lose elev resolution\n",
    ") as dst:\n",
    "    dst.write(\n",
    "        arr=rasterized,             # array to write to raster\n",
    "        indexes=1,                  # bands to write to\n",
    "        )"
   ]
  },
  {
   "cell_type": "code",
   "execution_count": null,
   "metadata": {},
   "outputs": [],
   "source": [
    "mn_bldg_raster = rasterio.open(data_path / \"mn_bldg_raster.tif\")\n",
    "rasterio.plot.show(mn_bldg_raster)"
   ]
  },
  {
   "cell_type": "code",
   "execution_count": null,
   "metadata": {},
   "outputs": [],
   "source": [
    "# Prettier plotting with seaborn\n",
    "sns.set_theme(font_scale=1.5, style=\"whitegrid\")"
   ]
  },
  {
   "cell_type": "code",
   "execution_count": null,
   "metadata": {},
   "outputs": [],
   "source": [
    "# Open data \n",
    "mn_bldg_xarray = rxr.open_rasterio(data_path / \"mn_bldg_raster.tif\", masked=True)\n",
    "\n",
    "# View object dimensions\n",
    "mn_bldg_xarray.shape"
   ]
  },
  {
   "cell_type": "code",
   "execution_count": null,
   "metadata": {},
   "outputs": [],
   "source": [
    "# Plot a histogram\n",
    "bins = [x for x in range(5,2000,5)]\n",
    "f, ax = plt.subplots(figsize=(10, 6))\n",
    "mn_bldg_xarray.plot.hist(\n",
    "    ax=ax,\n",
    "    color=\"purple\",\n",
    "    bins=bins,\n",
    ")\n",
    "ax.set(title=\"MN BLDGS\", xlabel=\"Roof Height Above Sealevel (ft)\", ylabel=\"Frequency\")\n",
    "\n",
    "plt.show()"
   ]
  }
 ],
 "metadata": {
  "kernelspec": {
   "display_name": ".venv",
   "language": "python",
   "name": "python3"
  },
  "language_info": {
   "name": "python",
   "version": "3.12.3"
  }
 },
 "nbformat": 4,
 "nbformat_minor": 2
}
